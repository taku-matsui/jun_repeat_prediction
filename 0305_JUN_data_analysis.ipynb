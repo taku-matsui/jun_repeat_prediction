{
 "cells": [
  {
   "cell_type": "markdown",
   "metadata": {},
   "source": [
    "# JUNデータcsvの読み込み\n",
    "member_id\tgender\tbirthday\tpref_cd\tzipcode\tsales_date\tpart_no\tcolor\tsize_id\tunit_price\tlist_price\tshop_id"
   ]
  },
  {
   "cell_type": "code",
   "execution_count": 1,
   "metadata": {},
   "outputs": [
    {
     "name": "stderr",
     "output_type": "stream",
     "text": [
      "/home/t-matsui/.pyenv/versions/anaconda3-4.3.1/lib/python3.6/site-packages/IPython/core/interactiveshell.py:2717: DtypeWarning: Columns (1,3,7,9,12) have mixed types. Specify dtype option on import or set low_memory=False.\n",
      "  interactivity=interactivity, compiler=compiler, result=result)\n"
     ]
    }
   ],
   "source": [
    "# coding: UTF-8\n",
    "import pandas as pd\n",
    "import numpy as np\n",
    "import datetime\n",
    "\n",
    "df_jun = pd.read_csv('jun_needed_data.csv').iloc[:,1:]"
   ]
  },
  {
   "cell_type": "markdown",
   "metadata": {},
   "source": [
    "## 有効なmember_id\n",
    "- Nanデータ数 0\n",
    "- 無効：member_idが0のもの 18153472---(18.2M)\n",
    "- 有効：member_idが0でないもの 10826978---(10.8M)"
   ]
  },
  {
   "cell_type": "code",
   "execution_count": 2,
   "metadata": {},
   "outputs": [
    {
     "name": "stdout",
     "output_type": "stream",
     "text": [
      "Nanデータ数 0\n",
      "member_idが0のもの 18153472\n",
      "member_idが0でないもの 10826978\n"
     ]
    }
   ],
   "source": [
    "print(\"Nanデータ数\", len(df_jun[df_jun['member_id'].isnull()]))\n",
    "print(\"member_idが0のもの\", len(df_jun.query('member_id == 0')))\n",
    "print(\"member_idが0でないもの\", len(df_jun.query('member_id != 0')))"
   ]
  },
  {
   "cell_type": "markdown",
   "metadata": {},
   "source": [
    "### 有効なshop_id\n",
    "- Nanデータ数 4660348\n",
    "- 有効データ数 24320102"
   ]
  },
  {
   "cell_type": "code",
   "execution_count": 3,
   "metadata": {},
   "outputs": [
    {
     "name": "stdout",
     "output_type": "stream",
     "text": [
      "Nanデータ数 4660348\n",
      "有効データ数 24320102\n"
     ]
    }
   ],
   "source": [
    "a_all = len(df_jun.shop_id)\n",
    "a = df_jun[df_jun['shop_id'].isnull()]\n",
    "print(\"Nanデータ数\", len(a))\n",
    "print(\"有効データ数\", a_all - len(a))"
   ]
  },
  {
   "cell_type": "markdown",
   "metadata": {},
   "source": [
    "### 有効なmember_idとshop_idを持つデータのみ抽出\n",
    "- データ数：6166630---(6.17M)\n",
    "- 欠損値が一切ないデータの数：1078326--(1.08M)\n",
    "    - gender == 0: 914\n",
    "    - gender == 1: 1026732---(1.03M)\n",
    "    - gender == 2: 50680---(0.05M)"
   ]
  },
  {
   "cell_type": "code",
   "execution_count": 4,
   "metadata": {
    "collapsed": true
   },
   "outputs": [],
   "source": [
    "df_jun_valid = df_jun.dropna(subset = ['shop_id']).query('member_id != 0')"
   ]
  },
  {
   "cell_type": "code",
   "execution_count": 5,
   "metadata": {},
   "outputs": [
    {
     "name": "stdout",
     "output_type": "stream",
     "text": [
      "6166630\n",
      "欠損値なし 1078326\n",
      "gender == 0 914\n",
      "gender == 1 1026732\n",
      "gender == 2 50680\n"
     ]
    }
   ],
   "source": [
    "print(len(df_jun_valid))\n",
    "print(\"欠損値なし\", len(df_jun_valid.dropna()))\n",
    "print(\"gender == 0\", len(df_jun_valid.dropna().query('gender == 0')))\n",
    "print(\"gender == 1\", len(df_jun_valid.dropna().query('gender == 1')))\n",
    "print(\"gender == 2\", len(df_jun_valid.dropna().query('gender == 2')))"
   ]
  },
  {
   "cell_type": "markdown",
   "metadata": {},
   "source": [
    "### 欠損値が完全になく、有効な件数と人数\n",
    "- 件数：1078326---(1.08M)\n",
    "- 人数：183953----(0.18M)"
   ]
  },
  {
   "cell_type": "code",
   "execution_count": 6,
   "metadata": {},
   "outputs": [
    {
     "name": "stdout",
     "output_type": "stream",
     "text": [
      "1078326\n",
      "183953\n"
     ]
    }
   ],
   "source": [
    "df_jun_perfectly_nonna = df_jun_valid.dropna()\n",
    "print(len(df_jun_perfectly_nonna))\n",
    "print(len(df_jun_perfectly_nonna.drop_duplicates(subset = 'member_id')))"
   ]
  },
  {
   "cell_type": "markdown",
   "metadata": {},
   "source": [
    "### 誕生日を1900年～2020年に。"
   ]
  },
  {
   "cell_type": "code",
   "execution_count": 7,
   "metadata": {},
   "outputs": [
    {
     "name": "stderr",
     "output_type": "stream",
     "text": [
      "/home/t-matsui/.pyenv/versions/anaconda3-4.3.1/lib/python3.6/site-packages/ipykernel/__main__.py:3: SettingWithCopyWarning: \n",
      "A value is trying to be set on a copy of a slice from a DataFrame.\n",
      "Try using .loc[row_indexer,col_indexer] = value instead\n",
      "\n",
      "See the caveats in the documentation: http://pandas.pydata.org/pandas-docs/stable/indexing.html#indexing-view-versus-copy\n",
      "  app.launch_new_instance()\n",
      "/home/t-matsui/.pyenv/versions/anaconda3-4.3.1/lib/python3.6/site-packages/ipykernel/__main__.py:4: SettingWithCopyWarning: \n",
      "A value is trying to be set on a copy of a slice from a DataFrame.\n",
      "Try using .loc[row_indexer,col_indexer] = value instead\n",
      "\n",
      "See the caveats in the documentation: http://pandas.pydata.org/pandas-docs/stable/indexing.html#indexing-view-versus-copy\n"
     ]
    }
   ],
   "source": [
    "mask = (df_jun_perfectly_nonna.birthday.astype(np.int) > 19000000) & (df_jun_perfectly_nonna.birthday.astype(np.int) < 20200000)\n",
    "df_jun_final = df_jun_perfectly_nonna[mask]\n",
    "df_jun_final['birthday'] = df_jun_final['birthday'].astype(str)\n",
    "df_jun_final['sales_date'] = df_jun_final['sales_date'].astype(str)"
   ]
  },
  {
   "cell_type": "code",
   "execution_count": 8,
   "metadata": {},
   "outputs": [
    {
     "name": "stdout",
     "output_type": "stream",
     "text": [
      "1074229\n"
     ]
    }
   ],
   "source": [
    "year = df_jun_final.birthday.str.slice(0,4)\n",
    "month = df_jun_final.birthday.str.slice(4,6)\n",
    "day = df_jun_final.birthday.str.slice(6,8)\n",
    "\n",
    "year = year.astype(int)\n",
    "month = month.astype(int)\n",
    "day = day.astype(int)\n",
    "\n",
    "df_jun_final = df_jun_final[(month > 0) & (month < 13) & (day > 0) & (day < 32)]\n",
    "print(len(df_jun_final))"
   ]
  },
  {
   "cell_type": "code",
   "execution_count": 9,
   "metadata": {},
   "outputs": [
    {
     "name": "stdout",
     "output_type": "stream",
     "text": [
      "1074229\n"
     ]
    }
   ],
   "source": [
    "syear = df_jun_final.sales_date.str.slice(0,4)\n",
    "smonth = df_jun_final.sales_date.str.slice(4,6)\n",
    "sday = df_jun_final.sales_date.str.slice(6,8)\n",
    "\n",
    "syear = syear.astype(int)\n",
    "smonth = smonth.astype(int)\n",
    "sday = sday.astype(int)\n",
    "\n",
    "df_jun_final_perfect = df_jun_final[(smonth > 0) & (smonth < 13) & (sday > 0) & (sday < 32)]\n",
    "print(len(df_jun_final_perfect))"
   ]
  },
  {
   "cell_type": "code",
   "execution_count": 10,
   "metadata": {},
   "outputs": [
    {
     "name": "stdout",
     "output_type": "stream",
     "text": [
      "object\n",
      "object\n"
     ]
    }
   ],
   "source": [
    "print(df_jun_final_perfect.sales_date.dtype)\n",
    "print(df_jun_final_perfect.birthday.dtype)\n",
    "#print(df_jun_final_perfect.tail(5))"
   ]
  },
  {
   "cell_type": "markdown",
   "metadata": {},
   "source": [
    "### indexとsales_dateからなるDataFrameを\"today\"とする。"
   ]
  },
  {
   "cell_type": "code",
   "execution_count": 297,
   "metadata": {
    "collapsed": true
   },
   "outputs": [
    {
     "name": "stdout",
     "output_type": "stream",
     "text": [
      "datetime64[ns]\n",
      "   sales_date\n",
      "44 2017-11-12\n",
      "45 2017-11-12\n",
      "46 2017-11-12\n",
      "47 2017-11-12\n",
      "57 2015-01-10\n",
      "58 2015-06-20\n",
      "59 2016-03-21\n",
      "60 2016-03-21\n",
      "61 2016-05-14\n",
      "62 2016-07-03\n"
     ]
    }
   ],
   "source": [
    "today = pd.DataFrame(df_jun_final_perfect['sales_date'].astype(float).astype(np.int))\n",
    "today.sales_date = pd.to_datetime(today.sales_date, format='%Y%m%d')\n",
    "print(today.head(10).sales_date.dtype)\n",
    "print(today.head(10))"
   ]
  },
  {
   "cell_type": "code",
   "execution_count": 298,
   "metadata": {
    "collapsed": true
   },
   "outputs": [
    {
     "name": "stdout",
     "output_type": "stream",
     "text": [
      "datetime64[ns]\n",
      "     birthday\n",
      "44 1954-07-18\n",
      "45 1954-07-18\n",
      "46 1954-07-18\n",
      "47 1954-07-18\n",
      "57 1965-04-14\n",
      "58 1965-04-14\n",
      "59 1965-04-14\n",
      "60 1965-04-14\n",
      "61 1965-04-14\n",
      "62 1965-04-14\n"
     ]
    }
   ],
   "source": [
    "birth = pd.DataFrame(df_jun_final_perfect['birthday'].astype(np.int))\n",
    "birth.birthday = pd.to_datetime(birth.birthday, format='%Y%m%d')\n",
    "print(birth.head(10).birthday.dtype)\n",
    "print(birth.head(10))"
   ]
  },
  {
   "cell_type": "markdown",
   "metadata": {},
   "source": [
    "## 年齢を求める関数の定義\n",
    "入力：dataframe\n",
    "出力：seriese"
   ]
  },
  {
   "cell_type": "code",
   "execution_count": 11,
   "metadata": {},
   "outputs": [
    {
     "ename": "TypeError",
     "evalue": "(\"descriptor 'strftime' requires a 'datetime.date' object but received a 'str'\", 'occurred at index 44')",
     "output_type": "error",
     "traceback": [
      "\u001b[0;31m---------------------------------------------------------------------------\u001b[0m",
      "\u001b[0;31mTypeError\u001b[0m                                 Traceback (most recent call last)",
      "\u001b[0;32m<ipython-input-11-c0f8bd86094f>\u001b[0m in \u001b[0;36m<module>\u001b[0;34m()\u001b[0m\n\u001b[1;32m      6\u001b[0m     \u001b[0;31m#return x[5] - x[2]\u001b[0m\u001b[0;34m\u001b[0m\u001b[0;34m\u001b[0m\u001b[0m\n\u001b[1;32m      7\u001b[0m \u001b[0;34m\u001b[0m\u001b[0m\n\u001b[0;32m----> 8\u001b[0;31m \u001b[0mdf_jun_final_perfect\u001b[0m\u001b[0;34m.\u001b[0m\u001b[0mhead\u001b[0m\u001b[0;34m(\u001b[0m\u001b[0;36m10\u001b[0m\u001b[0;34m)\u001b[0m\u001b[0;34m.\u001b[0m\u001b[0mapply\u001b[0m\u001b[0;34m(\u001b[0m\u001b[0mget_Age\u001b[0m\u001b[0;34m,\u001b[0m \u001b[0maxis\u001b[0m\u001b[0;34m=\u001b[0m\u001b[0;36m1\u001b[0m\u001b[0;34m)\u001b[0m\u001b[0;34m\u001b[0m\u001b[0m\n\u001b[0m",
      "\u001b[0;32m/home/t-matsui/.pyenv/versions/anaconda3-4.3.1/lib/python3.6/site-packages/pandas/core/frame.py\u001b[0m in \u001b[0;36mapply\u001b[0;34m(self, func, axis, broadcast, raw, reduce, args, **kwds)\u001b[0m\n\u001b[1;32m   4150\u001b[0m                     \u001b[0;32mif\u001b[0m \u001b[0mreduce\u001b[0m \u001b[0;32mis\u001b[0m \u001b[0;32mNone\u001b[0m\u001b[0;34m:\u001b[0m\u001b[0;34m\u001b[0m\u001b[0m\n\u001b[1;32m   4151\u001b[0m                         \u001b[0mreduce\u001b[0m \u001b[0;34m=\u001b[0m \u001b[0;32mTrue\u001b[0m\u001b[0;34m\u001b[0m\u001b[0m\n\u001b[0;32m-> 4152\u001b[0;31m                     \u001b[0;32mreturn\u001b[0m \u001b[0mself\u001b[0m\u001b[0;34m.\u001b[0m\u001b[0m_apply_standard\u001b[0m\u001b[0;34m(\u001b[0m\u001b[0mf\u001b[0m\u001b[0;34m,\u001b[0m \u001b[0maxis\u001b[0m\u001b[0;34m,\u001b[0m \u001b[0mreduce\u001b[0m\u001b[0;34m=\u001b[0m\u001b[0mreduce\u001b[0m\u001b[0;34m)\u001b[0m\u001b[0;34m\u001b[0m\u001b[0m\n\u001b[0m\u001b[1;32m   4153\u001b[0m             \u001b[0;32melse\u001b[0m\u001b[0;34m:\u001b[0m\u001b[0;34m\u001b[0m\u001b[0m\n\u001b[1;32m   4154\u001b[0m                 \u001b[0;32mreturn\u001b[0m \u001b[0mself\u001b[0m\u001b[0;34m.\u001b[0m\u001b[0m_apply_broadcast\u001b[0m\u001b[0;34m(\u001b[0m\u001b[0mf\u001b[0m\u001b[0;34m,\u001b[0m \u001b[0maxis\u001b[0m\u001b[0;34m)\u001b[0m\u001b[0;34m\u001b[0m\u001b[0m\n",
      "\u001b[0;32m/home/t-matsui/.pyenv/versions/anaconda3-4.3.1/lib/python3.6/site-packages/pandas/core/frame.py\u001b[0m in \u001b[0;36m_apply_standard\u001b[0;34m(self, func, axis, ignore_failures, reduce)\u001b[0m\n\u001b[1;32m   4246\u001b[0m             \u001b[0;32mtry\u001b[0m\u001b[0;34m:\u001b[0m\u001b[0;34m\u001b[0m\u001b[0m\n\u001b[1;32m   4247\u001b[0m                 \u001b[0;32mfor\u001b[0m \u001b[0mi\u001b[0m\u001b[0;34m,\u001b[0m \u001b[0mv\u001b[0m \u001b[0;32min\u001b[0m \u001b[0menumerate\u001b[0m\u001b[0;34m(\u001b[0m\u001b[0mseries_gen\u001b[0m\u001b[0;34m)\u001b[0m\u001b[0;34m:\u001b[0m\u001b[0;34m\u001b[0m\u001b[0m\n\u001b[0;32m-> 4248\u001b[0;31m                     \u001b[0mresults\u001b[0m\u001b[0;34m[\u001b[0m\u001b[0mi\u001b[0m\u001b[0;34m]\u001b[0m \u001b[0;34m=\u001b[0m \u001b[0mfunc\u001b[0m\u001b[0;34m(\u001b[0m\u001b[0mv\u001b[0m\u001b[0;34m)\u001b[0m\u001b[0;34m\u001b[0m\u001b[0m\n\u001b[0m\u001b[1;32m   4249\u001b[0m                     \u001b[0mkeys\u001b[0m\u001b[0;34m.\u001b[0m\u001b[0mappend\u001b[0m\u001b[0;34m(\u001b[0m\u001b[0mv\u001b[0m\u001b[0;34m.\u001b[0m\u001b[0mname\u001b[0m\u001b[0;34m)\u001b[0m\u001b[0;34m\u001b[0m\u001b[0m\n\u001b[1;32m   4250\u001b[0m             \u001b[0;32mexcept\u001b[0m \u001b[0mException\u001b[0m \u001b[0;32mas\u001b[0m \u001b[0me\u001b[0m\u001b[0;34m:\u001b[0m\u001b[0;34m\u001b[0m\u001b[0m\n",
      "\u001b[0;32m<ipython-input-11-c0f8bd86094f>\u001b[0m in \u001b[0;36mget_Age\u001b[0;34m(x)\u001b[0m\n\u001b[1;32m      1\u001b[0m \u001b[0;32mdef\u001b[0m \u001b[0mget_Age\u001b[0m\u001b[0;34m(\u001b[0m\u001b[0mx\u001b[0m\u001b[0;34m)\u001b[0m\u001b[0;34m:\u001b[0m\u001b[0;34m\u001b[0m\u001b[0m\n\u001b[0;32m----> 2\u001b[0;31m     \u001b[0ma\u001b[0m \u001b[0;34m=\u001b[0m \u001b[0mdatetime\u001b[0m\u001b[0;34m.\u001b[0m\u001b[0mdatetime\u001b[0m\u001b[0;34m.\u001b[0m\u001b[0mstrftime\u001b[0m\u001b[0;34m(\u001b[0m\u001b[0mx\u001b[0m\u001b[0;34m[\u001b[0m\u001b[0;36m5\u001b[0m\u001b[0;34m]\u001b[0m\u001b[0;34m,\u001b[0m \u001b[0;34m'%Y%m%d'\u001b[0m\u001b[0;34m)\u001b[0m\u001b[0;34m\u001b[0m\u001b[0m\n\u001b[0m\u001b[1;32m      3\u001b[0m     \u001b[0mb\u001b[0m \u001b[0;34m=\u001b[0m \u001b[0mdatetime\u001b[0m\u001b[0;34m.\u001b[0m\u001b[0mdatetime\u001b[0m\u001b[0;34m.\u001b[0m\u001b[0mstrftime\u001b[0m\u001b[0;34m(\u001b[0m\u001b[0mx\u001b[0m\u001b[0;34m[\u001b[0m\u001b[0;36m2\u001b[0m\u001b[0;34m]\u001b[0m\u001b[0;34m,\u001b[0m \u001b[0;34m'%Y%m%d'\u001b[0m\u001b[0;34m)\u001b[0m\u001b[0;34m\u001b[0m\u001b[0m\n\u001b[1;32m      4\u001b[0m \u001b[0;34m\u001b[0m\u001b[0m\n\u001b[1;32m      5\u001b[0m     \u001b[0;32mreturn\u001b[0m \u001b[0mint\u001b[0m\u001b[0;34m(\u001b[0m\u001b[0;34m(\u001b[0m\u001b[0mint\u001b[0m\u001b[0;34m(\u001b[0m\u001b[0ma\u001b[0m\u001b[0;34m)\u001b[0m \u001b[0;34m-\u001b[0m \u001b[0mint\u001b[0m\u001b[0;34m(\u001b[0m\u001b[0mb\u001b[0m\u001b[0;34m)\u001b[0m\u001b[0;34m)\u001b[0m \u001b[0;34m/\u001b[0m \u001b[0;36m10000\u001b[0m\u001b[0;34m)\u001b[0m\u001b[0;34m\u001b[0m\u001b[0m\n",
      "\u001b[0;31mTypeError\u001b[0m: (\"descriptor 'strftime' requires a 'datetime.date' object but received a 'str'\", 'occurred at index 44')"
     ]
    }
   ],
   "source": [
    "def get_Age(x):\n",
    "    a = datetime.datetime.strftime(x[5], '%Y%m%d')\n",
    "    b = datetime.datetime.strftime(x[2], '%Y%m%d')\n",
    "\n",
    "    return int((int(a) - int(b)) / 10000)\n",
    "    #return x[5] - x[2]\n",
    "\n",
    "df_jun_final_perfect.head(10).apply(get_Age, axis=1)"
   ]
  },
  {
   "cell_type": "code",
   "execution_count": 352,
   "metadata": {
    "collapsed": true
   },
   "outputs": [],
   "source": [
    "df_jun_final_perfect['sales_date'] = today\n",
    "df_jun_final_perfect['birthday'] = birth\n",
    "df_jun_final_perfect['age'] = df_jun_final_perfect.apply(get_Age, axis=1)"
   ]
  },
  {
   "cell_type": "code",
   "execution_count": 353,
   "metadata": {},
   "outputs": [
    {
     "data": {
      "text/html": [
       "<div>\n",
       "<table border=\"1\" class=\"dataframe\">\n",
       "  <thead>\n",
       "    <tr style=\"text-align: right;\">\n",
       "      <th></th>\n",
       "      <th>member_id</th>\n",
       "      <th>gender</th>\n",
       "      <th>birthday</th>\n",
       "      <th>pref_cd</th>\n",
       "      <th>zipcode</th>\n",
       "      <th>sales_date</th>\n",
       "      <th>part_no</th>\n",
       "      <th>color</th>\n",
       "      <th>size_id</th>\n",
       "      <th>unit_price</th>\n",
       "      <th>list_price</th>\n",
       "      <th>shop_id</th>\n",
       "      <th>age</th>\n",
       "    </tr>\n",
       "  </thead>\n",
       "  <tbody>\n",
       "    <tr>\n",
       "      <th>44</th>\n",
       "      <td>10000156</td>\n",
       "      <td>2.0</td>\n",
       "      <td>1954-07-18</td>\n",
       "      <td>11.0</td>\n",
       "      <td>3300074.0</td>\n",
       "      <td>2017-11-12</td>\n",
       "      <td>GDC5765</td>\n",
       "      <td>36.0</td>\n",
       "      <td>38</td>\n",
       "      <td>3960.0</td>\n",
       "      <td>4400.0</td>\n",
       "      <td>104284GD</td>\n",
       "      <td>63</td>\n",
       "    </tr>\n",
       "    <tr>\n",
       "      <th>45</th>\n",
       "      <td>10000156</td>\n",
       "      <td>2.0</td>\n",
       "      <td>1954-07-18</td>\n",
       "      <td>11.0</td>\n",
       "      <td>3300074.0</td>\n",
       "      <td>2017-11-12</td>\n",
       "      <td>GDK5715</td>\n",
       "      <td>7.0</td>\n",
       "      <td>40</td>\n",
       "      <td>4410.0</td>\n",
       "      <td>4900.0</td>\n",
       "      <td>104284GD</td>\n",
       "      <td>63</td>\n",
       "    </tr>\n",
       "    <tr>\n",
       "      <th>46</th>\n",
       "      <td>10000156</td>\n",
       "      <td>2.0</td>\n",
       "      <td>1954-07-18</td>\n",
       "      <td>11.0</td>\n",
       "      <td>3300074.0</td>\n",
       "      <td>2017-11-12</td>\n",
       "      <td>GDK5719</td>\n",
       "      <td>15.0</td>\n",
       "      <td>38</td>\n",
       "      <td>3510.0</td>\n",
       "      <td>3900.0</td>\n",
       "      <td>104284GD</td>\n",
       "      <td>63</td>\n",
       "    </tr>\n",
       "    <tr>\n",
       "      <th>47</th>\n",
       "      <td>10000156</td>\n",
       "      <td>2.0</td>\n",
       "      <td>1954-07-18</td>\n",
       "      <td>11.0</td>\n",
       "      <td>3300074.0</td>\n",
       "      <td>2017-11-12</td>\n",
       "      <td>GDM5714</td>\n",
       "      <td>40.0</td>\n",
       "      <td>36</td>\n",
       "      <td>2610.0</td>\n",
       "      <td>2900.0</td>\n",
       "      <td>104284GD</td>\n",
       "      <td>63</td>\n",
       "    </tr>\n",
       "    <tr>\n",
       "      <th>57</th>\n",
       "      <td>10000396</td>\n",
       "      <td>1.0</td>\n",
       "      <td>1965-04-14</td>\n",
       "      <td>13.0</td>\n",
       "      <td>1120014.0</td>\n",
       "      <td>2015-01-10</td>\n",
       "      <td>BVC4432</td>\n",
       "      <td>66.0</td>\n",
       "      <td>M</td>\n",
       "      <td>2052.0</td>\n",
       "      <td>3800.0</td>\n",
       "      <td>151092BV</td>\n",
       "      <td>49</td>\n",
       "    </tr>\n",
       "    <tr>\n",
       "      <th>58</th>\n",
       "      <td>10000396</td>\n",
       "      <td>1.0</td>\n",
       "      <td>1965-04-14</td>\n",
       "      <td>13.0</td>\n",
       "      <td>1120014.0</td>\n",
       "      <td>2015-06-20</td>\n",
       "      <td>BVS1554</td>\n",
       "      <td>27.0</td>\n",
       "      <td>M</td>\n",
       "      <td>2646.0</td>\n",
       "      <td>4900.0</td>\n",
       "      <td>151092BV</td>\n",
       "      <td>50</td>\n",
       "    </tr>\n",
       "    <tr>\n",
       "      <th>59</th>\n",
       "      <td>10000396</td>\n",
       "      <td>1.0</td>\n",
       "      <td>1965-04-14</td>\n",
       "      <td>13.0</td>\n",
       "      <td>1120014.0</td>\n",
       "      <td>2016-03-21</td>\n",
       "      <td>GDM1600</td>\n",
       "      <td>16.0</td>\n",
       "      <td>38</td>\n",
       "      <td>3080.0</td>\n",
       "      <td>4400.0</td>\n",
       "      <td>151090GD</td>\n",
       "      <td>50</td>\n",
       "    </tr>\n",
       "    <tr>\n",
       "      <th>60</th>\n",
       "      <td>10000396</td>\n",
       "      <td>1.0</td>\n",
       "      <td>1965-04-14</td>\n",
       "      <td>13.0</td>\n",
       "      <td>1120014.0</td>\n",
       "      <td>2016-03-21</td>\n",
       "      <td>GDM1605</td>\n",
       "      <td>16.0</td>\n",
       "      <td>38</td>\n",
       "      <td>2730.0</td>\n",
       "      <td>3900.0</td>\n",
       "      <td>151090GD</td>\n",
       "      <td>50</td>\n",
       "    </tr>\n",
       "    <tr>\n",
       "      <th>61</th>\n",
       "      <td>10000396</td>\n",
       "      <td>1.0</td>\n",
       "      <td>1965-04-14</td>\n",
       "      <td>13.0</td>\n",
       "      <td>1120014.0</td>\n",
       "      <td>2016-05-14</td>\n",
       "      <td>BVH2614</td>\n",
       "      <td>10.0</td>\n",
       "      <td>F</td>\n",
       "      <td>3120.0</td>\n",
       "      <td>3900.0</td>\n",
       "      <td>151092BV</td>\n",
       "      <td>51</td>\n",
       "    </tr>\n",
       "    <tr>\n",
       "      <th>62</th>\n",
       "      <td>10000396</td>\n",
       "      <td>1.0</td>\n",
       "      <td>1965-04-14</td>\n",
       "      <td>13.0</td>\n",
       "      <td>1120014.0</td>\n",
       "      <td>2016-07-03</td>\n",
       "      <td>BVC2623</td>\n",
       "      <td>8.0</td>\n",
       "      <td>M</td>\n",
       "      <td>3430.0</td>\n",
       "      <td>4900.0</td>\n",
       "      <td>151092BV</td>\n",
       "      <td>51</td>\n",
       "    </tr>\n",
       "  </tbody>\n",
       "</table>\n",
       "</div>"
      ],
      "text/plain": [
       "   member_id  gender   birthday  pref_cd    zipcode sales_date  part_no  \\\n",
       "44  10000156     2.0 1954-07-18     11.0  3300074.0 2017-11-12  GDC5765   \n",
       "45  10000156     2.0 1954-07-18     11.0  3300074.0 2017-11-12  GDK5715   \n",
       "46  10000156     2.0 1954-07-18     11.0  3300074.0 2017-11-12  GDK5719   \n",
       "47  10000156     2.0 1954-07-18     11.0  3300074.0 2017-11-12  GDM5714   \n",
       "57  10000396     1.0 1965-04-14     13.0  1120014.0 2015-01-10  BVC4432   \n",
       "58  10000396     1.0 1965-04-14     13.0  1120014.0 2015-06-20  BVS1554   \n",
       "59  10000396     1.0 1965-04-14     13.0  1120014.0 2016-03-21  GDM1600   \n",
       "60  10000396     1.0 1965-04-14     13.0  1120014.0 2016-03-21  GDM1605   \n",
       "61  10000396     1.0 1965-04-14     13.0  1120014.0 2016-05-14  BVH2614   \n",
       "62  10000396     1.0 1965-04-14     13.0  1120014.0 2016-07-03  BVC2623   \n",
       "\n",
       "    color size_id  unit_price  list_price   shop_id  age  \n",
       "44   36.0      38      3960.0      4400.0  104284GD   63  \n",
       "45    7.0      40      4410.0      4900.0  104284GD   63  \n",
       "46   15.0      38      3510.0      3900.0  104284GD   63  \n",
       "47   40.0      36      2610.0      2900.0  104284GD   63  \n",
       "57   66.0       M      2052.0      3800.0  151092BV   49  \n",
       "58   27.0       M      2646.0      4900.0  151092BV   50  \n",
       "59   16.0      38      3080.0      4400.0  151090GD   50  \n",
       "60   16.0      38      2730.0      3900.0  151090GD   50  \n",
       "61   10.0       F      3120.0      3900.0  151092BV   51  \n",
       "62    8.0       M      3430.0      4900.0  151092BV   51  "
      ]
     },
     "execution_count": 353,
     "metadata": {},
     "output_type": "execute_result"
    }
   ],
   "source": [
    "df_jun_final_perfect.head(10)"
   ]
  },
  {
   "cell_type": "markdown",
   "metadata": {},
   "source": [
    "## ブランドから性別を割り出す\n",
    "以下のデータから、\n",
    "1: 女\n",
    "2: 男\n",
    "とわかる。（母数は['member_id', 'gender', 'shop_id']にNaNがないもの）\n",
    "- GA (female & male)\n",
    "    - gender 0 347440\n",
    "    - gender 1 92532\n",
    "    - gender 2 23151\n",
    "- GD (female)\n",
    "    - gender 0 1984381\n",
    "    - gender 1 454928\n",
    "    - gender 2 1731\n",
    "- AN (male)\n",
    "    - gender 0 133009\n",
    "    - gender 1 4530\n",
    "    - gender 2 15691\n",
    "- GM (male)\n",
    "    - gender 0 0\n",
    "    - gender 1 0\n",
    "    - gender 2 0\n"
   ]
  },
  {
   "cell_type": "code",
   "execution_count": 123,
   "metadata": {
    "collapsed": true
   },
   "outputs": [
    {
     "name": "stdout",
     "output_type": "stream",
     "text": [
      "GA\n",
      "gender 0 347440\n",
      "gender 1 92532\n",
      "gender 2 23151\n",
      "GD\n",
      "gender 0 1984381\n",
      "gender 1 454928\n",
      "gender 2 1731\n",
      "AN\n",
      "gender 0 133009\n",
      "gender 1 4530\n",
      "gender 2 15691\n",
      "GM\n",
      "gender 0 0\n",
      "gender 1 0\n",
      "gender 2 0\n"
     ]
    }
   ],
   "source": [
    "df = df_jun.loc[:,['member_id', 'gender', 'shop_id']].dropna()#drop_duplicates(subset = 'member_id')\n",
    "brand = ('GA', 'GD', 'AN', 'GM')\n",
    "\n",
    "for b in range(len(brand)):\n",
    "    print(brand[b])\n",
    "    df_gender_check = df[df.shop_id.str.contains(brand[b])]\n",
    "    for i in range(3):\n",
    "        print(\"gender\", i, len(df_gender_check.query('gender == @i')))"
   ]
  },
  {
   "cell_type": "markdown",
   "metadata": {},
   "source": [
    "## genderの特性\n",
    "- 全データ数:  28980450---(28.98M)\n",
    "- gender =  0 8977472---(8.977M)\n",
    "- gender =  1 1665677---(1.666M)\n",
    "- gender =  2 118515---(0.1185M)\n",
    "- gender =  3 6\n",
    "- gender = NaN 18218780---(18.22M)"
   ]
  },
  {
   "cell_type": "code",
   "execution_count": 35,
   "metadata": {
    "collapsed": true
   },
   "outputs": [
    {
     "name": "stdout",
     "output_type": "stream",
     "text": [
      "全データ数:  28980450\n",
      "gender =  0 8977472\n",
      "gender =  1 1665677\n",
      "gender =  2 118515\n",
      "gender =  3 6\n",
      "gender = NaN 18218780\n"
     ]
    }
   ],
   "source": [
    "#df_jun.drop_duplicates(subset = 'gender')\n",
    "#i = 2\n",
    "#df_jun.query('gender == @i')\n",
    "a_all = len(df_jun.iloc[:,1])\n",
    "print(\"全データ数: \", a_all)\n",
    "a = 0\n",
    "for i in range(4):\n",
    "    print(\"gender = \",i, len(df_jun.query('gender == @i')))\n",
    "    a += len(df_jun.query('gender == @i'))\n",
    "\n",
    "print(\"gender = NaN\", a_all - a)\n",
    "#df_jun.query('gender i= NaN')"
   ]
  },
  {
   "cell_type": "markdown",
   "metadata": {},
   "source": [
    "### 性別の特性\n",
    "- 男(gender = 2): 118515---(0.1185M)\n",
    "- 女(gender = 1): 1665677---(1.666M)\n",
    "- その他: 27196258---(27.20M)\n",
    "\n",
    "性別不明があまりにも多い"
   ]
  },
  {
   "cell_type": "code",
   "execution_count": 124,
   "metadata": {},
   "outputs": [
    {
     "data": {
      "text/plain": [
       "27196258"
      ]
     },
     "execution_count": 124,
     "metadata": {},
     "output_type": "execute_result"
    }
   ],
   "source": [
    "28980450 - 118515 -  1665677"
   ]
  }
 ],
 "metadata": {
  "kernelspec": {
   "display_name": "repeat_prediction",
   "language": "python",
   "name": "repeat_prediction"
  },
  "language_info": {
   "codemirror_mode": {
    "name": "ipython",
    "version": 3
   },
   "file_extension": ".py",
   "mimetype": "text/x-python",
   "name": "python",
   "nbconvert_exporter": "python",
   "pygments_lexer": "ipython3",
   "version": "3.6.0"
  }
 },
 "nbformat": 4,
 "nbformat_minor": 2
}
